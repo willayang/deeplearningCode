{
 "cells": [
  {
   "cell_type": "code",
   "execution_count": 1,
   "metadata": {},
   "outputs": [],
   "source": [
    "# To support both python 2 and python 3\n",
    "from __future__ import division, print_function, unicode_literals\n",
    "\n",
    "# Common imports\n",
    "import numpy as np\n",
    "import os\n",
    "import tensorflow as tf\n",
    "import numpy as np\n",
    "\n",
    "# to make this notebook's output stable across runs\n",
    "def reset_graph(seed=42):\n",
    "    tf.reset_default_graph()\n",
    "    tf.set_random_seed(seed)\n",
    "    np.random.seed(seed)\n",
    "\n",
    "# To plot pretty figures\n",
    "%matplotlib inline\n",
    "import matplotlib\n",
    "import matplotlib.pyplot as plt\n",
    "plt.rcParams['axes.labelsize'] = 14\n",
    "plt.rcParams['xtick.labelsize'] = 12\n",
    "plt.rcParams['ytick.labelsize'] = 12\n",
    "\n",
    "# Where to save the figures\n",
    "PROJECT_ROOT_DIR = \".\"\n",
    "CHAPTER_ID = \"ann\"\n",
    "\n",
    "def save_fig(fig_id, tight_layout=True):\n",
    "    path = os.path.join(PROJECT_ROOT_DIR, \"images\", CHAPTER_ID, fig_id + \".png\")\n",
    "    print(\"Saving figure\", fig_id)\n",
    "    if tight_layout:\n",
    "        plt.tight_layout()\n",
    "    plt.savefig(path, format='png', dpi=300)"
   ]
  },
  {
   "cell_type": "code",
   "execution_count": 2,
   "metadata": {},
   "outputs": [
    {
     "name": "stdout",
     "output_type": "stream",
     "text": [
      "Extracting /tmp/data/train-images-idx3-ubyte.gz\n",
      "Extracting /tmp/data/train-labels-idx1-ubyte.gz\n",
      "Extracting /tmp/data/t10k-images-idx3-ubyte.gz\n",
      "Extracting /tmp/data/t10k-labels-idx1-ubyte.gz\n"
     ]
    }
   ],
   "source": [
    "from tensorflow.examples.tutorials.mnist import input_data\n",
    "mnist = input_data.read_data_sets(\"/tmp/data/\")"
   ]
  },
  {
   "cell_type": "code",
   "execution_count": 11,
   "metadata": {},
   "outputs": [
    {
     "data": {
      "text/plain": [
       "55000"
      ]
     },
     "execution_count": 11,
     "metadata": {},
     "output_type": "execute_result"
    }
   ],
   "source": [
    "mnist.train.num_examples"
   ]
  },
  {
   "cell_type": "code",
   "execution_count": 3,
   "metadata": {},
   "outputs": [
    {
     "name": "stdout",
     "output_type": "stream",
     "text": [
      "Train data shape:  (55000, 784)\n",
      "Train labels shape:  (55000,)\n",
      "Test data shape:  (10000, 784)\n",
      "Test labels shape:  (10000,)\n"
     ]
    }
   ],
   "source": [
    "X_train = mnist.train.images\n",
    "X_test = mnist.test.images\n",
    "y_train = mnist.train.labels.astype(\"int\")\n",
    "y_test = mnist.test.labels.astype(\"int\")\n",
    "\n",
    "print ('Train data shape: ', X_train.shape)\n",
    "print ('Train labels shape: ', y_train.shape)\n",
    "print ('Test data shape: ', X_test.shape)\n",
    "print ('Test labels shape: ', y_test.shape)"
   ]
  },
  {
   "cell_type": "code",
   "execution_count": 4,
   "metadata": {},
   "outputs": [],
   "source": [
    "n_inputs = 28*28  # MNIST\n",
    "n_hidden1 = 300\n",
    "n_hidden2 = 100\n",
    "n_outputs = 10"
   ]
  },
  {
   "cell_type": "code",
   "execution_count": 5,
   "metadata": {},
   "outputs": [],
   "source": [
    "reset_graph()\n",
    "\n",
    "X = tf.placeholder(tf.float32, shape=(None, n_inputs), name=\"X\")\n",
    "y = tf.placeholder(tf.int64, shape=(None), name=\"y\") "
   ]
  },
  {
   "cell_type": "code",
   "execution_count": 6,
   "metadata": {},
   "outputs": [],
   "source": [
    "with tf.name_scope(\"dnn\"):\n",
    "    hidden1 = tf.layers.dense(X, n_hidden1, name=\"hidden1\",\n",
    "                              activation=tf.nn.relu)\n",
    "    hidden2 = tf.layers.dense(hidden1, n_hidden2, name=\"hidden2\",\n",
    "                              activation=tf.nn.relu)\n",
    "    logits = tf.layers.dense(hidden2, n_outputs, name=\"outputs\")"
   ]
  },
  {
   "cell_type": "code",
   "execution_count": 7,
   "metadata": {},
   "outputs": [
    {
     "data": {
      "text/plain": [
       "<tf.Tensor 'loss_1:0' shape=() dtype=string>"
      ]
     },
     "execution_count": 7,
     "metadata": {},
     "output_type": "execute_result"
    }
   ],
   "source": [
    "with tf.name_scope(\"loss\"):\n",
    "    xentropy = tf.nn.sparse_softmax_cross_entropy_with_logits(labels=y, logits=logits)\n",
    "    loss = tf.reduce_mean(xentropy, name=\"loss\")\n",
    "tf.summary.scalar(\"loss\", loss)"
   ]
  },
  {
   "cell_type": "code",
   "execution_count": 8,
   "metadata": {},
   "outputs": [],
   "source": [
    "learning_rate = 0.01\n",
    "\n",
    "with tf.name_scope(\"train\"):\n",
    "    optimizer = tf.train.GradientDescentOptimizer(learning_rate)\n",
    "    training_op = optimizer.minimize(loss)"
   ]
  },
  {
   "cell_type": "code",
   "execution_count": 9,
   "metadata": {},
   "outputs": [
    {
     "data": {
      "text/plain": [
       "<tf.Tensor 'accuracy_1:0' shape=() dtype=string>"
      ]
     },
     "execution_count": 9,
     "metadata": {},
     "output_type": "execute_result"
    }
   ],
   "source": [
    "with tf.name_scope(\"accuracy\"):\n",
    "    correct = tf.nn.in_top_k(logits, y, 1)\n",
    "    accuracy = tf.reduce_mean(tf.cast(correct, tf.float32))\n",
    "tf.summary.scalar(\"accuracy\", accuracy)"
   ]
  },
  {
   "cell_type": "code",
   "execution_count": 10,
   "metadata": {},
   "outputs": [
    {
     "ename": "NameError",
     "evalue": "name 'sess' is not defined",
     "output_type": "error",
     "traceback": [
      "\u001b[0;31m---------------------------------------------------------------------------\u001b[0m",
      "\u001b[0;31mNameError\u001b[0m                                 Traceback (most recent call last)",
      "\u001b[0;32m<ipython-input-10-728bf8c8e378>\u001b[0m in \u001b[0;36m<module>\u001b[0;34m()\u001b[0m\n\u001b[1;32m      1\u001b[0m \u001b[0mmerged\u001b[0m \u001b[0;34m=\u001b[0m \u001b[0mtf\u001b[0m\u001b[0;34m.\u001b[0m\u001b[0msummary\u001b[0m\u001b[0;34m.\u001b[0m\u001b[0mmerge_all\u001b[0m\u001b[0;34m(\u001b[0m\u001b[0;34m)\u001b[0m\u001b[0;34m\u001b[0m\u001b[0m\n\u001b[1;32m      2\u001b[0m \u001b[0minit\u001b[0m \u001b[0;34m=\u001b[0m \u001b[0mtf\u001b[0m\u001b[0;34m.\u001b[0m\u001b[0mglobal_variables_initializer\u001b[0m\u001b[0;34m(\u001b[0m\u001b[0;34m)\u001b[0m\u001b[0;34m\u001b[0m\u001b[0m\n\u001b[0;32m----> 3\u001b[0;31m \u001b[0mtrain_writer\u001b[0m \u001b[0;34m=\u001b[0m \u001b[0mtf\u001b[0m\u001b[0;34m.\u001b[0m\u001b[0msummary\u001b[0m\u001b[0;34m.\u001b[0m\u001b[0mFileWriter\u001b[0m\u001b[0;34m(\u001b[0m\u001b[0;34m'/tmp/dnn-train'\u001b[0m\u001b[0;34m,\u001b[0m \u001b[0msess\u001b[0m\u001b[0;34m.\u001b[0m\u001b[0mgraph\u001b[0m\u001b[0;34m)\u001b[0m\u001b[0;34m\u001b[0m\u001b[0m\n\u001b[0m\u001b[1;32m      4\u001b[0m \u001b[0mtest_writer\u001b[0m \u001b[0;34m=\u001b[0m \u001b[0mtf\u001b[0m\u001b[0;34m.\u001b[0m\u001b[0msummary\u001b[0m\u001b[0;34m.\u001b[0m\u001b[0mFileWriter\u001b[0m\u001b[0;34m(\u001b[0m\u001b[0;34m'/tmp/dnn-test'\u001b[0m\u001b[0;34m)\u001b[0m\u001b[0;34m\u001b[0m\u001b[0m\n\u001b[1;32m      5\u001b[0m \u001b[0msaver\u001b[0m \u001b[0;34m=\u001b[0m \u001b[0mtf\u001b[0m\u001b[0;34m.\u001b[0m\u001b[0mtrain\u001b[0m\u001b[0;34m.\u001b[0m\u001b[0mSaver\u001b[0m\u001b[0;34m(\u001b[0m\u001b[0;34m)\u001b[0m\u001b[0;34m\u001b[0m\u001b[0m\n",
      "\u001b[0;31mNameError\u001b[0m: name 'sess' is not defined"
     ]
    }
   ],
   "source": [
    "merged = tf.summary.merge_all()\n",
    "init = tf.global_variables_initializer()\n",
    "train_writer = tf.summary.FileWriter('/tmp/dnn-train', sess.graph)\n",
    "test_writer = tf.summary.FileWriter('/tmp/dnn-test')\n",
    "saver = tf.train.Saver()"
   ]
  },
  {
   "cell_type": "code",
   "execution_count": null,
   "metadata": {},
   "outputs": [],
   "source": [
    "n_epochs = 10\n",
    "batch_size = 50\n",
    "n_batches = 50\n",
    "batch_count = mnist.train.num_examples // batch_size\n",
    "\n",
    "with tf.Session() as sess:\n",
    "    init.run()\n",
    "    all_loss = []\n",
    "    for epoch in range(n_epochs):\n",
    "        for iteration in range(batch_count):\n",
    "            X_batch, y_batch = mnist.train.next_batch(batch_size)\n",
    "            one_loss, summary, _ = sess.run([loss, merged, training_op], feed_dict={X: X_batch, y: y_batch})\n",
    "            all_loss.append(one_loss)\n",
    "            train_writer.add_summary(summary, epoch * batch_count + iteration)\n",
    "        acc_train = accuracy.eval(feed_dict={X: X_batch, y: y_batch})\n",
    "        acc_test = accuracy.eval(feed_dict={X: mnist.test.images, y: mnist.test.labels})\n",
    "        print(\"Epoch\", epoch, \"Train accuracy:\", acc_train, \"Test accuracy:\", acc_test, \"Loss: \", np.mean(all_loss))\n",
    "\n",
    "    save_path = saver.save(sess, \"./my_model_final.ckpt\")"
   ]
  },
  {
   "cell_type": "code",
   "execution_count": 26,
   "metadata": {},
   "outputs": [
    {
     "ename": "NameError",
     "evalue": "name 'show_graph' is not defined",
     "output_type": "error",
     "traceback": [
      "\u001b[0;31m---------------------------------------------------------------------------\u001b[0m",
      "\u001b[0;31mNameError\u001b[0m                                 Traceback (most recent call last)",
      "\u001b[0;32m<ipython-input-26-c6cc149fa4a7>\u001b[0m in \u001b[0;36m<module>\u001b[0;34m()\u001b[0m\n\u001b[0;32m----> 1\u001b[0;31m \u001b[0mshow_graph\u001b[0m\u001b[0;34m(\u001b[0m\u001b[0mtf\u001b[0m\u001b[0;34m.\u001b[0m\u001b[0mget_default_graph\u001b[0m\u001b[0;34m(\u001b[0m\u001b[0;34m)\u001b[0m\u001b[0;34m)\u001b[0m\u001b[0;34m\u001b[0m\u001b[0m\n\u001b[0m",
      "\u001b[0;31mNameError\u001b[0m: name 'show_graph' is not defined"
     ]
    }
   ],
   "source": [
    "show_graph(tf.get_default_graph())"
   ]
  },
  {
   "cell_type": "code",
   "execution_count": 11,
   "metadata": {
    "scrolled": true
   },
   "outputs": [
    {
     "name": "stdout",
     "output_type": "stream",
     "text": [
      "Epoch 0 Train accuracy: 0.88 Test accuracy: 0.8942 Loss:  0.779578\n",
      "Epoch 1 Train accuracy: 0.9 Test accuracy: 0.9102 Loss:  0.582041\n",
      "Epoch 2 Train accuracy: 0.88 Test accuracy: 0.917 Loss:  0.49755\n",
      "Epoch 3 Train accuracy: 0.96 Test accuracy: 0.9242 Loss:  0.44766\n",
      "Epoch 4 Train accuracy: 0.92 Test accuracy: 0.9295 Loss:  0.413232\n",
      "Epoch 5 Train accuracy: 0.9 Test accuracy: 0.9327 Loss:  0.387275\n",
      "Epoch 6 Train accuracy: 0.94 Test accuracy: 0.9356 Loss:  0.366545\n",
      "Epoch 7 Train accuracy: 0.92 Test accuracy: 0.9394 Loss:  0.349351\n",
      "Epoch 8 Train accuracy: 0.88 Test accuracy: 0.942 Loss:  0.334682\n",
      "Epoch 9 Train accuracy: 0.94 Test accuracy: 0.9443 Loss:  0.321893\n"
     ]
    }
   ],
   "source": [
    "'''\n",
    "Variate hidden layer size\n",
    "'''\n",
    "\n",
    "with tf.name_scope(\"init\"):\n",
    "    n_inputs = 28*28  # MNIST\n",
    "    n_hidden = 300\n",
    "    n_outputs = 10\n",
    "    n_epochs = 10\n",
    "    batch_size = 50\n",
    "    batch_count = mnist.train.num_examples // batch_size\n",
    "\n",
    "reset_graph()\n",
    "sess = tf.InteractiveSession()\n",
    "\n",
    "X = tf.placeholder(tf.float32, shape=(None, n_inputs), name=\"X\")\n",
    "y = tf.placeholder(tf.int64, shape=(None), name=\"y\") \n",
    "\n",
    "with tf.name_scope(\"dnn\"):\n",
    "    hidden = tf.layers.dense(X, n_hidden, name=\"hidden1\",\n",
    "                              activation=tf.nn.relu)\n",
    "    logits = tf.layers.dense(hidden, n_outputs, name=\"outputs\")\n",
    "    \n",
    "with tf.name_scope(\"loss\"):\n",
    "    xentropy = tf.nn.sparse_softmax_cross_entropy_with_logits(labels=y, logits=logits)\n",
    "    loss = tf.reduce_mean(xentropy, name=\"loss\")\n",
    "tf.summary.scalar(\"loss\", loss)\n",
    "\n",
    "learning_rate = 0.01\n",
    "\n",
    "with tf.name_scope(\"train\"):\n",
    "    optimizer = tf.train.GradientDescentOptimizer(learning_rate)\n",
    "    training_op = optimizer.minimize(loss)\n",
    "\n",
    "with tf.name_scope(\"accuracy\"):\n",
    "    correct = tf.nn.in_top_k(logits, y, 1)\n",
    "    accuracy = tf.reduce_mean(tf.cast(correct, tf.float32))\n",
    "tf.summary.scalar(\"accuracy\", accuracy)\n",
    "\n",
    "merged = tf.summary.merge_all()\n",
    "init = tf.global_variables_initializer()\n",
    "train_writer = tf.summary.FileWriter('/tmp/dnn-train-' + str(n_hidden), sess.graph)\n",
    "\n",
    "init.run()\n",
    "all_loss = []\n",
    "for epoch in range(n_epochs):\n",
    "    for iteration in range(batch_count):\n",
    "        X_batch, y_batch = mnist.train.next_batch(batch_size)\n",
    "        one_loss, summary, _ = sess.run([loss, merged, training_op], feed_dict={X: X_batch, y: y_batch})\n",
    "        all_loss.append(one_loss)\n",
    "        train_writer.add_summary(summary, epoch * batch_count + iteration)\n",
    "    acc_train = accuracy.eval(feed_dict={X: X_batch, y: y_batch})\n",
    "    acc_test = accuracy.eval(feed_dict={X: mnist.test.images, y: mnist.test.labels})\n",
    "    print(\"Epoch\", epoch, \"Train accuracy:\", acc_train, \"Test accuracy:\", acc_test, \"Loss: \", np.mean(all_loss))"
   ]
  },
  {
   "cell_type": "code",
   "execution_count": 19,
   "metadata": {},
   "outputs": [
    {
     "name": "stdout",
     "output_type": "stream",
     "text": [
      "Epoch 0 Train accuracy: 0.92 Test accuracy: 0.8721 Loss:  1.04761\n",
      "Epoch 1 Train accuracy: 0.88 Test accuracy: 0.8965 Loss:  0.747533\n",
      "Epoch 2 Train accuracy: 0.9 Test accuracy: 0.9065 Loss:  0.623237\n",
      "Epoch 3 Train accuracy: 0.9 Test accuracy: 0.9103 Loss:  0.552652\n",
      "Epoch 4 Train accuracy: 0.96 Test accuracy: 0.9155 Loss:  0.506059\n",
      "Epoch 5 Train accuracy: 0.96 Test accuracy: 0.919 Loss:  0.472424\n",
      "Epoch 6 Train accuracy: 0.84 Test accuracy: 0.9217 Loss:  0.446638\n",
      "Epoch 7 Train accuracy: 0.94 Test accuracy: 0.9225 Loss:  0.426037\n",
      "Epoch 8 Train accuracy: 0.84 Test accuracy: 0.9254 Loss:  0.409013\n",
      "Epoch 9 Train accuracy: 0.92 Test accuracy: 0.9269 Loss:  0.394599\n"
     ]
    }
   ],
   "source": [
    "'''\n",
    "Variate the number of hidden layers\n",
    "'''\n",
    "\n",
    "with tf.name_scope(\"init\"):\n",
    "    n_inputs = 28*28  # MNIST\n",
    "    n_hidden = 20\n",
    "    n_outputs = 10\n",
    "    n_epochs = 10\n",
    "    batch_size = 50\n",
    "    batch_count = mnist.train.num_examples // batch_size\n",
    "\n",
    "reset_graph()\n",
    "sess = tf.InteractiveSession()\n",
    "\n",
    "X = tf.placeholder(tf.float32, shape=(None, n_inputs), name=\"X\")\n",
    "y = tf.placeholder(tf.int64, shape=(None), name=\"y\") \n",
    "\n",
    "with tf.name_scope(\"dnn\"):\n",
    "    hidden1 = tf.layers.dense(X, n_hidden, name=\"hidden1\",\n",
    "                              activation=tf.nn.relu)\n",
    "    '''\n",
    "    hidden2 = tf.layers.dense(hidden1, n_hidden, name=\"hidden2\",\n",
    "                              activation=tf.nn.relu)\n",
    "    hidden3 = tf.layers.dense(hidden2, n_hidden, name=\"hidden3\",\n",
    "                              activation=tf.nn.relu)\n",
    "    '''\n",
    "    logits = tf.layers.dense(hidden1, n_outputs, name=\"outputs\")\n",
    "    \n",
    "with tf.name_scope(\"loss\"):\n",
    "    xentropy = tf.nn.sparse_softmax_cross_entropy_with_logits(labels=y, logits=logits)\n",
    "    loss = tf.reduce_mean(xentropy, name=\"loss\")\n",
    "tf.summary.scalar(\"loss\", loss)\n",
    "\n",
    "learning_rate = 0.01\n",
    "\n",
    "with tf.name_scope(\"train\"):\n",
    "    optimizer = tf.train.GradientDescentOptimizer(learning_rate)\n",
    "    training_op = optimizer.minimize(loss)\n",
    "\n",
    "with tf.name_scope(\"accuracy\"):\n",
    "    correct = tf.nn.in_top_k(logits, y, 1)\n",
    "    accuracy = tf.reduce_mean(tf.cast(correct, tf.float32))\n",
    "tf.summary.scalar(\"accuracy\", accuracy)\n",
    "\n",
    "merged = tf.summary.merge_all()\n",
    "init = tf.global_variables_initializer()\n",
    "train_writer = tf.summary.FileWriter('/tmp/dnn-train-' + str(n_hidden), sess.graph)\n",
    "\n",
    "init.run()\n",
    "all_loss = []\n",
    "for epoch in range(n_epochs):\n",
    "    for iteration in range(batch_count):\n",
    "        X_batch, y_batch = mnist.train.next_batch(batch_size)\n",
    "        one_loss, summary, _ = sess.run([loss, merged, training_op], feed_dict={X: X_batch, y: y_batch})\n",
    "        all_loss.append(one_loss)\n",
    "        train_writer.add_summary(summary, epoch * batch_count + iteration)\n",
    "    acc_train = accuracy.eval(feed_dict={X: X_batch, y: y_batch})\n",
    "    acc_test = accuracy.eval(feed_dict={X: mnist.test.images, y: mnist.test.labels})\n",
    "    print(\"Epoch\", epoch, \"Train accuracy:\", acc_train, \"Test accuracy:\", acc_test, \"Loss: \", np.mean(all_loss))"
   ]
  },
  {
   "cell_type": "code",
   "execution_count": null,
   "metadata": {},
   "outputs": [],
   "source": [
    "'''\n",
    "Reduce training set size\n",
    "'''\n",
    "import pylab as pl\n",
    "\n",
    "train_size = 500\n",
    "with tf.name_scope(\"init\"):\n",
    "    n_inputs = 28*28  # MNIST\n",
    "    n_hidden1 = 300\n",
    "    n_hidden2 = 100\n",
    "    n_epochs = 50\n",
    "    batch_size = 50\n",
    "    batch_count = train_size // batch_size\n",
    "    # batch_count = mnist.train.num_examples // batch_size\n",
    "\n",
    "reset_graph()\n",
    "sess = tf.InteractiveSession()\n",
    "\n",
    "X = tf.placeholder(tf.float32, shape=(None, n_inputs), name=\"X\")\n",
    "y = tf.placeholder(tf.int64, shape=(None), name=\"y\") \n",
    "\n",
    "with tf.name_scope(\"dnn\"):\n",
    "    hidden1 = tf.layers.dense(X, n_hidden1, name=\"hidden1\",\n",
    "                              activation=tf.nn.relu)\n",
    "    hidden2 = tf.layers.dense(hidden1, n_hidden2, name=\"hidden2\",\n",
    "                              activation=tf.nn.relu)\n",
    "    logits = tf.layers.dense(hidden2, n_outputs, name=\"outputs\")\n",
    "    \n",
    "with tf.name_scope(\"loss\"):\n",
    "    xentropy = tf.nn.sparse_softmax_cross_entropy_with_logits(labels=y, logits=logits)\n",
    "    loss = tf.reduce_mean(xentropy, name=\"loss\")\n",
    "\n",
    "learning_rate = 0.01\n",
    "\n",
    "with tf.name_scope(\"train\"):\n",
    "    optimizer = tf.train.GradientDescentOptimizer(learning_rate)\n",
    "    training_op = optimizer.minimize(loss)\n",
    "\n",
    "with tf.name_scope(\"accuracy\"):\n",
    "    correct = tf.nn.in_top_k(logits, y, 1)\n",
    "    accuracy = tf.reduce_mean(tf.cast(correct, tf.float32))\n",
    "\n",
    "merged = tf.summary.merge_all()\n",
    "init = tf.global_variables_initializer()\n",
    "\n",
    "init.run()\n",
    "train_acc = []\n",
    "test_acc = []\n",
    "for epoch in range(n_epochs):\n",
    "    all_loss = []\n",
    "    for iteration in range(batch_count):\n",
    "        # X_batch, y_batch = mnist.train.next_batch(batch_size)\n",
    "        X_batch, y_batch = mnist.train.images[iteration*batch_size : (iteration+1)*batch_size,], \\\n",
    "                           mnist.train.labels[iteration*batch_size : (iteration+1)*batch_size,]\n",
    "        one_loss, _ = sess.run([loss, training_op], feed_dict={X: X_batch, y: y_batch})\n",
    "        all_loss.append(one_loss)\n",
    "    acc_train = accuracy.eval(feed_dict={X: mnist.train.images[:train_size,], y: mnist.train.labels[:train_size,]})\n",
    "    # acc_test = accuracy.eval(feed_dict={X: mnist.test.images, y: mnist.test.labels})\n",
    "    acc_test = accuracy.eval(feed_dict={X: mnist.train.images[train_size:(train_size+1000),],\n",
    "                                        y: mnist.train.labels[train_size:(train_size+1000),]})\n",
    "    train_acc.append(acc_train)\n",
    "    test_acc.append(acc_test)\n",
    "    print(\"Epoch\", epoch, \"Train accuracy:\", acc_train, \"Test accuracy:\", acc_test, \"Loss: \", np.mean(all_loss))\n",
    "    \n",
    "pl.plot(train_acc, label='Train Accuracy')\n",
    "pl.plot(test_acc, label = 'Test Accuracy')\n",
    "pl.xlabel('Epoch')\n",
    "pl.ylabel('Accuracy')\n",
    "pl.legend(bbox_to_anchor=(1.05, 1), loc=2, borderaxespad=0.)\n",
    "pl.title(\"Train set size: \" + str(train_size))\n",
    "pl.show()"
   ]
  },
  {
   "cell_type": "code",
   "execution_count": 52,
   "metadata": {},
   "outputs": [
    {
     "name": "stdout",
     "output_type": "stream",
     "text": [
      "Epoch 0 Train accuracy: 0.6815 Test accuracy: 0.6863 Loss:  2.01894\n",
      "Epoch 1 Train accuracy: 0.809 Test accuracy: 0.8033 Loss:  1.32799\n",
      "Epoch 2 Train accuracy: 0.8375 Test accuracy: 0.8466 Loss:  0.871382\n",
      "Epoch 3 Train accuracy: 0.869 Test accuracy: 0.8691 Loss:  0.652726\n",
      "Epoch 4 Train accuracy: 0.875 Test accuracy: 0.8796 Loss:  0.55067\n",
      "Epoch 5 Train accuracy: 0.8805 Test accuracy: 0.8869 Loss:  0.485395\n",
      "Epoch 6 Train accuracy: 0.9 Test accuracy: 0.8925 Loss:  0.445062\n",
      "Epoch 7 Train accuracy: 0.883 Test accuracy: 0.8998 Loss:  0.411068\n",
      "Epoch 8 Train accuracy: 0.896 Test accuracy: 0.9022 Loss:  0.393546\n",
      "Epoch 9 Train accuracy: 0.896 Test accuracy: 0.9065 Loss:  0.377842\n",
      "Epoch 10 Train accuracy: 0.905 Test accuracy: 0.9077 Loss:  0.356704\n",
      "Epoch 11 Train accuracy: 0.9 Test accuracy: 0.9095 Loss:  0.3479\n",
      "Epoch 12 Train accuracy: 0.9045 Test accuracy: 0.9118 Loss:  0.334539\n",
      "Epoch 13 Train accuracy: 0.909 Test accuracy: 0.914 Loss:  0.32753\n",
      "Epoch 14 Train accuracy: 0.909 Test accuracy: 0.9148 Loss:  0.321307\n",
      "Epoch 15 Train accuracy: 0.92 Test accuracy: 0.9162 Loss:  0.309209\n",
      "Epoch 16 Train accuracy: 0.9115 Test accuracy: 0.9173 Loss:  0.307396\n",
      "Epoch 17 Train accuracy: 0.924 Test accuracy: 0.9199 Loss:  0.296574\n",
      "Epoch 18 Train accuracy: 0.9375 Test accuracy: 0.9206 Loss:  0.292876\n",
      "Epoch 19 Train accuracy: 0.9135 Test accuracy: 0.9224 Loss:  0.29268\n"
     ]
    },
    {
     "data": {
      "image/png": "[encoded data removed]",
      "text/plain": [
       "<matplotlib.figure.Figure at 0x10e44b790>"
      ]
     },
     "metadata": {},
     "output_type": "display_data"
    }
   ],
   "source": [
    "'''\n",
    "Use other optimizer\n",
    "'''\n",
    "import pylab as pl\n",
    "\n",
    "with tf.name_scope(\"init\"):\n",
    "    n_inputs = 28*28  # MNIST\n",
    "    n_hidden1 = 300\n",
    "    n_hidden2 = 100\n",
    "    n_epochs = 20\n",
    "    batch_size = 50\n",
    "    batch_count = mnist.train.num_examples // batch_size\n",
    "\n",
    "reset_graph()\n",
    "sess = tf.InteractiveSession()\n",
    "\n",
    "X = tf.placeholder(tf.float32, shape=(None, n_inputs), name=\"X\")\n",
    "y = tf.placeholder(tf.int64, shape=(None), name=\"y\") \n",
    "\n",
    "with tf.name_scope(\"dnn\"):\n",
    "    hidden1 = tf.layers.dense(X, n_hidden1, name=\"hidden1\",\n",
    "                              activation=tf.nn.relu)\n",
    "    hidden2 = tf.layers.dense(hidden1, n_hidden2, name=\"hidden2\",\n",
    "                              activation=tf.nn.relu)\n",
    "    logits = tf.layers.dense(hidden2, n_outputs, name=\"outputs\")\n",
    "    \n",
    "with tf.name_scope(\"loss\"):\n",
    "    xentropy = tf.nn.sparse_softmax_cross_entropy_with_logits(labels=y, logits=logits)\n",
    "    loss = tf.reduce_mean(xentropy, name=\"loss\")\n",
    "\n",
    "with tf.name_scope(\"train\"):\n",
    "    # optimizer = tf.train.GradientDescentOptimizer(0.001)\n",
    "    # tf.train.MomentumOptimizer(learning_rate = 0.001, momentum = 0.9)\n",
    "    tf.train.AdamOptimizer(learning_rate = 0.001)\n",
    "    training_op = optimizer.minimize(loss)\n",
    "\n",
    "with tf.name_scope(\"accuracy\"):\n",
    "    correct = tf.nn.in_top_k(logits, y, 1)\n",
    "    accuracy = tf.reduce_mean(tf.cast(correct, tf.float32))\n",
    "\n",
    "merged = tf.summary.merge_all()\n",
    "init = tf.global_variables_initializer()\n",
    "\n",
    "init.run()\n",
    "test_acc = []\n",
    "for epoch in range(n_epochs):\n",
    "    all_loss = []\n",
    "    for iteration in range(batch_count):\n",
    "        X_batch, y_batch = mnist.train.next_batch(batch_size)\n",
    "        one_loss, _ = sess.run([loss, training_op], feed_dict={X: X_batch, y: y_batch})\n",
    "        all_loss.append(one_loss)\n",
    "    acc_train = accuracy.eval(feed_dict={X: mnist.train.images[:train_size,], y: mnist.train.labels[:train_size,]})\n",
    "    acc_test = accuracy.eval(feed_dict={X: mnist.test.images, y: mnist.test.labels})\n",
    "    test_acc.append(acc_test)\n",
    "    print(\"Epoch\", epoch, \"Train accuracy:\", acc_train, \"Test accuracy:\", acc_test, \"Loss: \", np.mean(all_loss))\n",
    "    \n",
    "\n",
    "pl.plot(test_acc)\n",
    "pl.xlabel('Epoch')\n",
    "pl.ylabel('Accuracy')\n",
    "pl.title('Test Accuracy: Adam')\n",
    "pl.show()"
   ]
  },
  {
   "cell_type": "code",
   "execution_count": null,
   "metadata": {},
   "outputs": [],
   "source": []
  }
 ],
 "metadata": {
  "kernelspec": {
   "display_name": "Python 2",
   "language": "python",
   "name": "python2"
  },
  "language_info": {
   "codemirror_mode": {
    "name": "ipython",
    "version": 2
   },
   "file_extension": ".py",
   "mimetype": "text/x-python",
   "name": "python",
   "nbconvert_exporter": "python",
   "pygments_lexer": "ipython2",
   "version": "2.7.10"
  },
  "nav_menu": {
   "height": "264px",
   "width": "369px"
  },
  "toc": {
   "navigate_menu": true,
   "number_sections": true,
   "sideBar": true,
   "threshold": 6,
   "toc_cell": false,
   "toc_section_display": "block",
   "toc_window_display": false
  }
 },
 "nbformat": 4,
 "nbformat_minor": 1
}
